{
 "cells": [
  {
   "cell_type": "code",
   "execution_count": 76,
   "metadata": {},
   "outputs": [],
   "source": [
    "import tensorflow as tf\n",
    "from tensorflow import keras\n",
    "from tensorflow.keras import layers\n",
    "import pydot\n",
    "import numpy as np\n",
    "import matplotlib.pyplot as plt\n",
    "plt.style.use('seaborn-whitegrid')"
   ]
  },
  {
   "cell_type": "markdown",
   "metadata": {},
   "source": [
    "# Data preprocessing "
   ]
  },
  {
   "cell_type": "code",
   "execution_count": 77,
   "metadata": {},
   "outputs": [],
   "source": [
    "(x_train, y_train), (x_test, y_test) = keras.datasets.mnist.load_data()"
   ]
  },
  {
   "cell_type": "code",
   "execution_count": 78,
   "metadata": {},
   "outputs": [
    {
     "data": {
      "text/plain": [
       "((60000, 28, 28), (10000, 28, 28))"
      ]
     },
     "execution_count": 78,
     "metadata": {},
     "output_type": "execute_result"
    }
   ],
   "source": [
    "x_train.shape, x_test.shape"
   ]
  },
  {
   "cell_type": "markdown",
   "metadata": {},
   "source": [
    "## Add Noise"
   ]
  },
  {
   "cell_type": "code",
   "execution_count": 79,
   "metadata": {},
   "outputs": [],
   "source": [
    "noise_factor=10"
   ]
  },
  {
   "cell_type": "code",
   "execution_count": 80,
   "metadata": {},
   "outputs": [],
   "source": [
    "x_train_noisy = x_train + noise_factor * np.random.normal(loc=0,scale=1.0,size=x_train.shape)\n",
    "x_test_noisy = x_test + noise_factor * np.random.normal(loc=0,scale=1.0,size=x_test.shape)\n",
    "x_train_noisy = np.clip(x_train_noisy,0.,1.)\n",
    "x_test_noisy = np.clip(x_test_noisy,0.,1.)"
   ]
  },
  {
   "cell_type": "code",
   "execution_count": 94,
   "metadata": {},
   "outputs": [
    {
     "data": {
      "image/png": "[encoded data removed]",
      "text/plain": [
       "<Figure size 1440x144 with 9 Axes>"
      ]
     },
     "metadata": {},
     "output_type": "display_data"
    }
   ],
   "source": [
    "n = 10\n",
    "plt.figure(figsize=(20, 2))\n",
    "for i in range(1, n):\n",
    "    ax = plt.subplot(1, n, i)\n",
    "    plt.imshow(x_test_noisy[i].reshape(28, 28))\n",
    "    plt.gray()\n",
    "    ax.get_xaxis().set_visible(False)\n",
    "    ax.get_yaxis().set_visible(False)\n",
    "plt.show()"
   ]
  },
  {
   "cell_type": "code",
   "execution_count": 81,
   "metadata": {},
   "outputs": [],
   "source": [
    "x_train = x_train_noisy\n",
    "x_test = x_test_noisy"
   ]
  },
  {
   "cell_type": "code",
   "execution_count": 82,
   "metadata": {},
   "outputs": [],
   "source": [
    "x_train = tf.expand_dims(x_train, axis=-1, name=None)\n",
    "x_test = tf.expand_dims(x_test, axis=-1, name=None)"
   ]
  },
  {
   "cell_type": "code",
   "execution_count": 83,
   "metadata": {},
   "outputs": [
    {
     "data": {
      "text/plain": [
       "(TensorShape([60000, 28, 28, 1]), TensorShape([10000, 28, 28, 1]))"
      ]
     },
     "execution_count": 83,
     "metadata": {},
     "output_type": "execute_result"
    }
   ],
   "source": [
    "x_train.shape, x_test.shape"
   ]
  },
  {
   "cell_type": "code",
   "execution_count": 84,
   "metadata": {},
   "outputs": [],
   "source": [
    "y_train = keras.utils.to_categorical(y_train, 10, dtype='uint8')\n",
    "y_test = keras.utils.to_categorical(y_test, 10, dtype='uint8')"
   ]
  },
  {
   "cell_type": "markdown",
   "metadata": {},
   "source": [
    "# Model Designing"
   ]
  },
  {
   "cell_type": "code",
   "execution_count": 85,
   "metadata": {},
   "outputs": [],
   "source": [
    "input_shape = (28, 28, 1)\n",
    "classes = 10\n",
    "epochs = 10\n",
    "batch_size = 128"
   ]
  },
  {
   "cell_type": "markdown",
   "metadata": {},
   "source": [
    "## 2-Conv"
   ]
  },
  {
   "cell_type": "code",
   "execution_count": 86,
   "metadata": {},
   "outputs": [],
   "source": [
    "model = keras.Sequential()"
   ]
  },
  {
   "cell_type": "code",
   "execution_count": 87,
   "metadata": {},
   "outputs": [],
   "source": [
    "model.add(keras.Input(shape=input_shape))\n",
    "\n",
    "model.add(layers.Conv2D(64, kernel_size=(3, 3), activation=\"relu\"))\n",
    "model.add(layers.MaxPooling2D(pool_size=(2, 2)))\n",
    "\n",
    "model.add(layers.Conv2D(128, kernel_size=(3, 3), activation=\"relu\"))\n",
    "model.add(layers.MaxPooling2D(pool_size=(2, 2)))\n",
    "\n",
    "model.add(layers.Flatten())\n",
    "model.add(layers.Dropout(0.9))\n",
    "model.add(layers.Dense(classes, activation=\"softmax\"))"
   ]
  },
  {
   "cell_type": "code",
   "execution_count": 88,
   "metadata": {},
   "outputs": [
    {
     "name": "stdout",
     "output_type": "stream",
     "text": [
      "Model: \"sequential_5\"\n",
      "_________________________________________________________________\n",
      "Layer (type)                 Output Shape              Param #   \n",
      "=================================================================\n",
      "conv2d_8 (Conv2D)            (None, 26, 26, 64)        640       \n",
      "_________________________________________________________________\n",
      "max_pooling2d_8 (MaxPooling2 (None, 13, 13, 64)        0         \n",
      "_________________________________________________________________\n",
      "conv2d_9 (Conv2D)            (None, 11, 11, 128)       73856     \n",
      "_________________________________________________________________\n",
      "max_pooling2d_9 (MaxPooling2 (None, 5, 5, 128)         0         \n",
      "_________________________________________________________________\n",
      "flatten_4 (Flatten)          (None, 3200)              0         \n",
      "_________________________________________________________________\n",
      "dropout_4 (Dropout)          (None, 3200)              0         \n",
      "_________________________________________________________________\n",
      "dense_4 (Dense)              (None, 10)                32010     \n",
      "=================================================================\n",
      "Total params: 106,506\n",
      "Trainable params: 106,506\n",
      "Non-trainable params: 0\n",
      "_________________________________________________________________\n"
     ]
    }
   ],
   "source": [
    "model.summary()"
   ]
  },
  {
   "cell_type": "code",
   "execution_count": 89,
   "metadata": {},
   "outputs": [],
   "source": [
    "model.compile(loss=\"categorical_crossentropy\", optimizer=\"Adam\", metrics=[\"accuracy\"])"
   ]
  },
  {
   "cell_type": "code",
   "execution_count": 90,
   "metadata": {},
   "outputs": [
    {
     "name": "stdout",
     "output_type": "stream",
     "text": [
      "Epoch 1/10\n",
      "422/422 [==============================] - 29s 69ms/step - loss: 1.1450 - accuracy: 0.6104 - val_loss: 0.3200 - val_accuracy: 0.9170\n",
      "Epoch 2/10\n",
      "422/422 [==============================] - 30s 71ms/step - loss: 0.6102 - accuracy: 0.8051 - val_loss: 0.2387 - val_accuracy: 0.9382\n",
      "Epoch 3/10\n",
      "422/422 [==============================] - 31s 74ms/step - loss: 0.5361 - accuracy: 0.8279 - val_loss: 0.2049 - val_accuracy: 0.9410\n",
      "Epoch 4/10\n",
      "422/422 [==============================] - 33s 77ms/step - loss: 0.5036 - accuracy: 0.8386 - val_loss: 0.1912 - val_accuracy: 0.9472\n",
      "Epoch 5/10\n",
      "422/422 [==============================] - 32s 75ms/step - loss: 0.4875 - accuracy: 0.8449 - val_loss: 0.1855 - val_accuracy: 0.9477\n",
      "Epoch 6/10\n",
      "422/422 [==============================] - 32s 76ms/step - loss: 0.4658 - accuracy: 0.8502 - val_loss: 0.1837 - val_accuracy: 0.9505\n",
      "Epoch 7/10\n",
      "422/422 [==============================] - 32s 75ms/step - loss: 0.4510 - accuracy: 0.8551 - val_loss: 0.1689 - val_accuracy: 0.9507\n",
      "Epoch 8/10\n",
      "422/422 [==============================] - 35s 82ms/step - loss: 0.4443 - accuracy: 0.8584 - val_loss: 0.1829 - val_accuracy: 0.9505\n",
      "Epoch 9/10\n",
      "422/422 [==============================] - 35s 82ms/step - loss: 0.4356 - accuracy: 0.8625 - val_loss: 0.1655 - val_accuracy: 0.9522\n",
      "Epoch 10/10\n",
      "422/422 [==============================] - 33s 79ms/step - loss: 0.4281 - accuracy: 0.8646 - val_loss: 0.1703 - val_accuracy: 0.9512\n"
     ]
    }
   ],
   "source": [
    "history = model.fit(x_train, y_train, batch_size=batch_size, epochs=epochs, validation_split=0.1, \n",
    "                    use_multiprocessing=True)"
   ]
  },
  {
   "cell_type": "code",
   "execution_count": 91,
   "metadata": {},
   "outputs": [
    {
     "data": {
      "image/png": "[encoded data removed]",
      "text/plain": [
       "<Figure size 432x288 with 1 Axes>"
      ]
     },
     "metadata": {},
     "output_type": "display_data"
    }
   ],
   "source": [
    "fig = plt.figure()\n",
    "ax = plt.axes()\n",
    "plt.xlabel('Epochs')\n",
    "plt.ylabel('Percentage')\n",
    "plt.title('Accuracy')\n",
    "\n",
    "x = np.arange(1,epochs+1)\n",
    "val_accuracy = history.history.get('val_accuracy')\n",
    "accuracy = history.history.get('accuracy')\n",
    "\n",
    "plt.plot(x, val_accuracy, label='Validation Accuracy')\n",
    "plt.plot(x, accuracy, linestyle='dashdot', label='Accuracy')\n",
    "\n",
    "plt.legend()\n",
    "plt.show()"
   ]
  },
  {
   "cell_type": "code",
   "execution_count": 92,
   "metadata": {},
   "outputs": [
    {
     "data": {
      "image/png": "[encoded data removed]",
      "text/plain": [
       "<Figure size 432x288 with 1 Axes>"
      ]
     },
     "metadata": {},
     "output_type": "display_data"
    }
   ],
   "source": [
    "fig = plt.figure()\n",
    "ax = plt.axes()\n",
    "plt.xlabel('Epochs')\n",
    "plt.ylabel('Percentage')\n",
    "plt.title('Loss')\n",
    "\n",
    "x = np.arange(1,epochs+1)\n",
    "val_loss = history.history.get('val_loss')\n",
    "loss = history.history.get('loss')\n",
    "\n",
    "plt.plot(x, val_loss, label='Validation Loss')\n",
    "plt.plot(x, loss, linestyle='dashdot', label='Loss')\n",
    "\n",
    "plt.legend()\n",
    "plt.show()"
   ]
  },
  {
   "cell_type": "markdown",
   "metadata": {},
   "source": [
    "# Evaluation"
   ]
  },
  {
   "cell_type": "code",
   "execution_count": 93,
   "metadata": {},
   "outputs": [
    {
     "name": "stdout",
     "output_type": "stream",
     "text": [
      "Accuracy - 94.94%\n",
      "Loss - 18.3112%\n"
     ]
    }
   ],
   "source": [
    "score = model.evaluate(x_test, y_test, verbose=0)\n",
    "print('Accuracy - %s%%' %round(score[1] * 100, 4))\n",
    "print('Loss - %s%%' % round(score[0] * 100, 4))"
   ]
  },
  {
   "cell_type": "code",
   "execution_count": null,
   "metadata": {},
   "outputs": [],
   "source": []
  },
  {
   "cell_type": "code",
   "execution_count": null,
   "metadata": {},
   "outputs": [],
   "source": []
  }
 ],
 "metadata": {
  "kernelspec": {
   "display_name": "Python 3",
   "language": "python",
   "name": "python3"
  },
  "language_info": {
   "codemirror_mode": {
    "name": "ipython",
    "version": 3
   },
   "file_extension": ".py",
   "mimetype": "text/x-python",
   "name": "python",
   "nbconvert_exporter": "python",
   "pygments_lexer": "ipython3",
   "version": "3.6.9"
  }
 },
 "nbformat": 4,
 "nbformat_minor": 4
}
